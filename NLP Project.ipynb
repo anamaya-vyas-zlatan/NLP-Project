{
 "cells": [
  {
   "cell_type": "markdown",
   "id": "861d2aac",
   "metadata": {},
   "source": [
    "# Requirements"
   ]
  },
  {
   "cell_type": "code",
   "execution_count": 1,
   "id": "ec6ae2b9",
   "metadata": {},
   "outputs": [],
   "source": [
    "import speech_recognition as sr"
   ]
  },
  {
   "cell_type": "code",
   "execution_count": 2,
   "id": "5afba5fd",
   "metadata": {},
   "outputs": [
    {
     "name": "stderr",
     "output_type": "stream",
     "text": [
      "[nltk_data] Downloading package punkt to C:\\Users\\ANAMAYA\n",
      "[nltk_data]     VYAS\\AppData\\Roaming\\nltk_data...\n",
      "[nltk_data]   Package punkt is already up-to-date!\n",
      "[nltk_data] Downloading package stopwords to C:\\Users\\ANAMAYA\n",
      "[nltk_data]     VYAS\\AppData\\Roaming\\nltk_data...\n",
      "[nltk_data]   Package stopwords is already up-to-date!\n"
     ]
    },
    {
     "data": {
      "text/plain": [
       "True"
      ]
     },
     "execution_count": 2,
     "metadata": {},
     "output_type": "execute_result"
    }
   ],
   "source": [
    "import pyaudio\n",
    "import nltk\n",
    "nltk.download('punkt')\n",
    "nltk.download('stopwords')"
   ]
  },
  {
   "cell_type": "code",
   "execution_count": 3,
   "id": "c45f0d62",
   "metadata": {},
   "outputs": [],
   "source": [
    "import re"
   ]
  },
  {
   "cell_type": "code",
   "execution_count": 4,
   "id": "faed6899",
   "metadata": {},
   "outputs": [],
   "source": [
    "import numpy as np\n",
    "from sklearn.feature_extraction.text import TfidfVectorizer\n",
    "import pandas as pd"
   ]
  },
  {
   "cell_type": "code",
   "execution_count": 5,
   "id": "973ef86f",
   "metadata": {},
   "outputs": [],
   "source": [
    "from scipy.sparse.linalg import svds"
   ]
  },
  {
   "cell_type": "code",
   "execution_count": 6,
   "id": "14bdf3a5",
   "metadata": {},
   "outputs": [],
   "source": [
    "import networkx\n",
    "import matplotlib.pyplot as plt\n",
    "%matplotlib inline"
   ]
  },
  {
   "cell_type": "markdown",
   "id": "c0fa4a4b",
   "metadata": {},
   "source": [
    "# Speech-input "
   ]
  },
  {
   "cell_type": "markdown",
   "id": "06c84be6",
   "metadata": {},
   "source": [
    "### Function to convert speech to readable format"
   ]
  },
  {
   "cell_type": "code",
   "execution_count": 7,
   "id": "7e7a42d5",
   "metadata": {},
   "outputs": [],
   "source": [
    "def read_func():\n",
    "    r = sr.Recognizer()\n",
    "    with sr.Microphone() as source:\n",
    "        r.adjust_for_ambient_noise(source)\n",
    "        print(\"Please say something\")\n",
    "        audio = r.listen(source)\n",
    "        print(\"Recognizing Now .... \")\n",
    "        # recognize speech using google\n",
    "        l = \"\"\n",
    "        try:\n",
    "            r.recognize_google(audio)\n",
    "#             print(\"Audio Recorded Successfully \\n \")\n",
    "        except Exception as e:\n",
    "            print(\"Compiling...  \" + str(e))\n",
    "            return \"Error : 101\"\n",
    "        l = r.recognize_google(audio)\n",
    "        return l"
   ]
  },
  {
   "cell_type": "code",
   "execution_count": 8,
   "id": "853ef0a8",
   "metadata": {},
   "outputs": [],
   "source": [
    "def generate_text():\n",
    "    lines = []\n",
    "    for x in range(60):\n",
    "        s = read_func()\n",
    "        if s == \"Error : 101\":\n",
    "            break\n",
    "        else:\n",
    "            lines.append(s)\n",
    "    with open('readme.txt', 'w') as f:\n",
    "        f.write('.\\n'.join(lines))\n",
    "    f = open(\"readme.txt\", \"r\")\n",
    "    print(f.read())"
   ]
  },
  {
   "cell_type": "markdown",
   "id": "5343c0d7",
   "metadata": {},
   "source": [
    "### Take input"
   ]
  },
  {
   "cell_type": "code",
   "execution_count": 78,
   "id": "468f5e50",
   "metadata": {
    "scrolled": true
   },
   "outputs": [
    {
     "name": "stdout",
     "output_type": "stream",
     "text": [
      "Please say something\n",
      "Recognizing Now .... \n",
      "Please say something\n",
      "Recognizing Now .... \n",
      "Please say something\n",
      "Recognizing Now .... \n",
      "Please say something\n",
      "Recognizing Now .... \n",
      "Please say something\n",
      "Recognizing Now .... \n",
      "Please say something\n",
      "Recognizing Now .... \n",
      "Please say something\n",
      "Recognizing Now .... \n",
      "Please say something\n",
      "Recognizing Now .... \n",
      "Please say something\n",
      "Recognizing Now .... \n",
      "Please say something\n",
      "Recognizing Now .... \n",
      "Please say something\n",
      "Recognizing Now .... \n",
      "Please say something\n",
      "Recognizing Now .... \n",
      "Please say something\n",
      "Recognizing Now .... \n",
      "Please say something\n",
      "Recognizing Now .... \n",
      "Please say something\n",
      "Recognizing Now .... \n",
      "Please say something\n",
      "Recognizing Now .... \n",
      "Please say something\n",
      "Recognizing Now .... \n",
      "Compiling...  \n",
      "if we wish to eradicate child labour we need to formulate some very effective solutions which will save our children.\n",
      "it will also enhance the future of any country dealing with the social issues.\n",
      "to begin with one can create a number of unions that solely work to prevent child labour.\n",
      "it should help children indulging in this world and punishing those who make them do it.\n",
      "photo moving need to keep the parents in the loop so as to teach them the importance of education.\n",
      "is the make education free and people aware we will be able to educate more and more children.\n",
      "moreover making people aware of the harmful consequences of child labour is a must.\n",
      "in addition family control measures must also be taken.\n",
      "this will reduce family's bird so when you have lesser mouths to feed the parents will be enough to work for them.\n",
      "in fact every family must be promised a minimum income by the government.\n",
      "Government and people must work together.\n",
      "government should provide employment opportunities so that people can work and provide to their children.\n",
      "these children are the future of the country we cannot expect them to maintain the economic conditions of their family instead of having a normal childhood.\n",
      "child labour is a term you might have heard in use or movies.\n",
      "refers to a crime where children are forced to work from a very early age it refers like expecting kids to perform responsibilities like working and funding for themselves.\n",
      "the average age of a child to be appropriate to work is considered 15 years and more\n"
     ]
    }
   ],
   "source": [
    "generate_text()"
   ]
  },
  {
   "cell_type": "code",
   "execution_count": 79,
   "id": "4d4a3ab1",
   "metadata": {},
   "outputs": [
    {
     "name": "stdout",
     "output_type": "stream",
     "text": [
      "if we wish to eradicate child labour we need to formulate some very effective solutions which will save our children.\n",
      "it will also enhance the future of any country dealing with the social issues.\n",
      "to begin with one can create a number of unions that solely work to prevent child labour.\n",
      "it should help children indulging in this world and punishing those who make them do it.\n",
      "photo moving need to keep the parents in the loop so as to teach them the importance of education.\n",
      "is the make education free and people aware we will be able to educate more and more children.\n",
      "moreover making people aware of the harmful consequences of child labour is a must.\n",
      "in addition family control measures must also be taken.\n",
      "this will reduce family's bird so when you have lesser mouths to feed the parents will be enough to work for them.\n",
      "in fact every family must be promised a minimum income by the government.\n",
      "Government and people must work together.\n",
      "government should provide employment opportunities so that people can work and provide to their children.\n",
      "these children are the future of the country we cannot expect them to maintain the economic conditions of their family instead of having a normal childhood.\n",
      "child labour is a term you might have heard in use or movies.\n",
      "refers to a crime where children are forced to work from a very early age it refers like expecting kids to perform responsibilities like working and funding for themselves.\n",
      "the average age of a child to be appropriate to work is considered 15 years and more.\n"
     ]
    }
   ],
   "source": [
    "text_file = open(\"readme.txt\", \"r\")\n",
    "DOCUMENT = text_file.read()\n",
    "DOCUMENT = DOCUMENT+\".\"\n",
    "text_file.close()\n",
    "print(DOCUMENT)"
   ]
  },
  {
   "cell_type": "code",
   "execution_count": 64,
   "id": "c2938a8e",
   "metadata": {},
   "outputs": [],
   "source": [
    "DOCUMENT = re.sub(r'\\n|\\r', ' ', DOCUMENT)\n",
    "DOCUMENT = re.sub(r' +', ' ', DOCUMENT)\n",
    "DOCUMENT = DOCUMENT.strip()"
   ]
  },
  {
   "cell_type": "markdown",
   "id": "a52892c1",
   "metadata": {},
   "source": [
    "# Summarization"
   ]
  },
  {
   "cell_type": "code",
   "execution_count": 80,
   "id": "fe41b4fd",
   "metadata": {},
   "outputs": [
    {
     "data": {
      "text/plain": [
       "16"
      ]
     },
     "execution_count": 80,
     "metadata": {},
     "output_type": "execute_result"
    }
   ],
   "source": [
    "sentences = nltk.sent_tokenize(DOCUMENT)\n",
    "len(sentences)"
   ]
  },
  {
   "cell_type": "markdown",
   "id": "62295e52",
   "metadata": {},
   "source": [
    "### Pre-Processing"
   ]
  },
  {
   "cell_type": "code",
   "execution_count": 81,
   "id": "a84ad78d",
   "metadata": {},
   "outputs": [
    {
     "data": {
      "text/plain": [
       "array(['wish eradicate child labour need formulate effective solutions save children',\n",
       "       'also enhance future country dealing social issues',\n",
       "       'begin one create number unions solely work prevent child labour'],\n",
       "      dtype='<U116')"
      ]
     },
     "execution_count": 81,
     "metadata": {},
     "output_type": "execute_result"
    }
   ],
   "source": [
    "stop_words = nltk.corpus.stopwords.words('english')\n",
    "\n",
    "def normalize_document(doc):\n",
    "    # lower case and remove special characters\\whitespaces\n",
    "    doc = re.sub(r'[^a-zA-Z\\s]', '', doc, re.I|re.A)\n",
    "    doc = doc.lower()\n",
    "    doc = doc.strip()\n",
    "    # tokenize document\n",
    "    tokens = nltk.word_tokenize(doc)\n",
    "    # filter stopwords out of document\n",
    "    filtered_tokens = [token for token in tokens if token not in stop_words]\n",
    "    # re-create document from filtered tokens\n",
    "    doc = ' '.join(filtered_tokens)\n",
    "    return doc\n",
    "\n",
    "normalize_corpus = np.vectorize(normalize_document)\n",
    "\n",
    "norm_sentences = normalize_corpus(sentences)\n",
    "norm_sentences[:3]"
   ]
  },
  {
   "cell_type": "code",
   "execution_count": 83,
   "id": "f54d619c",
   "metadata": {},
   "outputs": [
    {
     "name": "stdout",
     "output_type": "stream",
     "text": [
      "(98, 16)\n"
     ]
    },
    {
     "name": "stderr",
     "output_type": "stream",
     "text": [
      "C:\\Users\\ANAMAYA VYAS\\AppData\\Roaming\\Python\\Python310\\site-packages\\sklearn\\utils\\deprecation.py:87: FutureWarning: Function get_feature_names is deprecated; get_feature_names is deprecated in 1.0 and will be removed in 1.2. Please use get_feature_names_out instead.\n",
      "  warnings.warn(msg, category=FutureWarning)\n"
     ]
    },
    {
     "data": {
      "text/html": [
       "<div>\n",
       "<style scoped>\n",
       "    .dataframe tbody tr th:only-of-type {\n",
       "        vertical-align: middle;\n",
       "    }\n",
       "\n",
       "    .dataframe tbody tr th {\n",
       "        vertical-align: top;\n",
       "    }\n",
       "\n",
       "    .dataframe thead th {\n",
       "        text-align: right;\n",
       "    }\n",
       "</style>\n",
       "<table border=\"1\" class=\"dataframe\">\n",
       "  <thead>\n",
       "    <tr style=\"text-align: right;\">\n",
       "      <th></th>\n",
       "      <th>0</th>\n",
       "      <th>1</th>\n",
       "      <th>2</th>\n",
       "      <th>3</th>\n",
       "      <th>4</th>\n",
       "      <th>5</th>\n",
       "      <th>6</th>\n",
       "      <th>7</th>\n",
       "      <th>8</th>\n",
       "      <th>9</th>\n",
       "      <th>10</th>\n",
       "      <th>11</th>\n",
       "      <th>12</th>\n",
       "      <th>13</th>\n",
       "      <th>14</th>\n",
       "      <th>15</th>\n",
       "    </tr>\n",
       "  </thead>\n",
       "  <tbody>\n",
       "    <tr>\n",
       "      <th>able</th>\n",
       "      <td>0.00</td>\n",
       "      <td>0.00</td>\n",
       "      <td>0.00</td>\n",
       "      <td>0.00</td>\n",
       "      <td>0.0</td>\n",
       "      <td>0.40</td>\n",
       "      <td>0.00</td>\n",
       "      <td>0.00</td>\n",
       "      <td>0.00</td>\n",
       "      <td>0.0</td>\n",
       "      <td>0.0</td>\n",
       "      <td>0.00</td>\n",
       "      <td>0.00</td>\n",
       "      <td>0.00</td>\n",
       "      <td>0.00</td>\n",
       "      <td>0.00</td>\n",
       "    </tr>\n",
       "    <tr>\n",
       "      <th>addition</th>\n",
       "      <td>0.00</td>\n",
       "      <td>0.00</td>\n",
       "      <td>0.00</td>\n",
       "      <td>0.00</td>\n",
       "      <td>0.0</td>\n",
       "      <td>0.00</td>\n",
       "      <td>0.00</td>\n",
       "      <td>0.41</td>\n",
       "      <td>0.00</td>\n",
       "      <td>0.0</td>\n",
       "      <td>0.0</td>\n",
       "      <td>0.00</td>\n",
       "      <td>0.00</td>\n",
       "      <td>0.00</td>\n",
       "      <td>0.00</td>\n",
       "      <td>0.00</td>\n",
       "    </tr>\n",
       "    <tr>\n",
       "      <th>age</th>\n",
       "      <td>0.00</td>\n",
       "      <td>0.00</td>\n",
       "      <td>0.00</td>\n",
       "      <td>0.00</td>\n",
       "      <td>0.0</td>\n",
       "      <td>0.00</td>\n",
       "      <td>0.00</td>\n",
       "      <td>0.00</td>\n",
       "      <td>0.00</td>\n",
       "      <td>0.0</td>\n",
       "      <td>0.0</td>\n",
       "      <td>0.00</td>\n",
       "      <td>0.00</td>\n",
       "      <td>0.00</td>\n",
       "      <td>0.20</td>\n",
       "      <td>0.37</td>\n",
       "    </tr>\n",
       "    <tr>\n",
       "      <th>also</th>\n",
       "      <td>0.00</td>\n",
       "      <td>0.35</td>\n",
       "      <td>0.00</td>\n",
       "      <td>0.00</td>\n",
       "      <td>0.0</td>\n",
       "      <td>0.00</td>\n",
       "      <td>0.00</td>\n",
       "      <td>0.36</td>\n",
       "      <td>0.00</td>\n",
       "      <td>0.0</td>\n",
       "      <td>0.0</td>\n",
       "      <td>0.00</td>\n",
       "      <td>0.00</td>\n",
       "      <td>0.00</td>\n",
       "      <td>0.00</td>\n",
       "      <td>0.00</td>\n",
       "    </tr>\n",
       "    <tr>\n",
       "      <th>appropriate</th>\n",
       "      <td>0.00</td>\n",
       "      <td>0.00</td>\n",
       "      <td>0.00</td>\n",
       "      <td>0.00</td>\n",
       "      <td>0.0</td>\n",
       "      <td>0.00</td>\n",
       "      <td>0.00</td>\n",
       "      <td>0.00</td>\n",
       "      <td>0.00</td>\n",
       "      <td>0.0</td>\n",
       "      <td>0.0</td>\n",
       "      <td>0.00</td>\n",
       "      <td>0.00</td>\n",
       "      <td>0.00</td>\n",
       "      <td>0.00</td>\n",
       "      <td>0.42</td>\n",
       "    </tr>\n",
       "    <tr>\n",
       "      <th>average</th>\n",
       "      <td>0.00</td>\n",
       "      <td>0.00</td>\n",
       "      <td>0.00</td>\n",
       "      <td>0.00</td>\n",
       "      <td>0.0</td>\n",
       "      <td>0.00</td>\n",
       "      <td>0.00</td>\n",
       "      <td>0.00</td>\n",
       "      <td>0.00</td>\n",
       "      <td>0.0</td>\n",
       "      <td>0.0</td>\n",
       "      <td>0.00</td>\n",
       "      <td>0.00</td>\n",
       "      <td>0.00</td>\n",
       "      <td>0.00</td>\n",
       "      <td>0.42</td>\n",
       "    </tr>\n",
       "    <tr>\n",
       "      <th>aware</th>\n",
       "      <td>0.00</td>\n",
       "      <td>0.00</td>\n",
       "      <td>0.00</td>\n",
       "      <td>0.00</td>\n",
       "      <td>0.0</td>\n",
       "      <td>0.35</td>\n",
       "      <td>0.34</td>\n",
       "      <td>0.00</td>\n",
       "      <td>0.00</td>\n",
       "      <td>0.0</td>\n",
       "      <td>0.0</td>\n",
       "      <td>0.00</td>\n",
       "      <td>0.00</td>\n",
       "      <td>0.00</td>\n",
       "      <td>0.00</td>\n",
       "      <td>0.00</td>\n",
       "    </tr>\n",
       "    <tr>\n",
       "      <th>begin</th>\n",
       "      <td>0.00</td>\n",
       "      <td>0.00</td>\n",
       "      <td>0.35</td>\n",
       "      <td>0.00</td>\n",
       "      <td>0.0</td>\n",
       "      <td>0.00</td>\n",
       "      <td>0.00</td>\n",
       "      <td>0.00</td>\n",
       "      <td>0.00</td>\n",
       "      <td>0.0</td>\n",
       "      <td>0.0</td>\n",
       "      <td>0.00</td>\n",
       "      <td>0.00</td>\n",
       "      <td>0.00</td>\n",
       "      <td>0.00</td>\n",
       "      <td>0.00</td>\n",
       "    </tr>\n",
       "    <tr>\n",
       "      <th>bird</th>\n",
       "      <td>0.00</td>\n",
       "      <td>0.00</td>\n",
       "      <td>0.00</td>\n",
       "      <td>0.00</td>\n",
       "      <td>0.0</td>\n",
       "      <td>0.00</td>\n",
       "      <td>0.00</td>\n",
       "      <td>0.00</td>\n",
       "      <td>0.35</td>\n",
       "      <td>0.0</td>\n",
       "      <td>0.0</td>\n",
       "      <td>0.00</td>\n",
       "      <td>0.00</td>\n",
       "      <td>0.00</td>\n",
       "      <td>0.00</td>\n",
       "      <td>0.00</td>\n",
       "    </tr>\n",
       "    <tr>\n",
       "      <th>child</th>\n",
       "      <td>0.23</td>\n",
       "      <td>0.00</td>\n",
       "      <td>0.23</td>\n",
       "      <td>0.00</td>\n",
       "      <td>0.0</td>\n",
       "      <td>0.00</td>\n",
       "      <td>0.25</td>\n",
       "      <td>0.00</td>\n",
       "      <td>0.00</td>\n",
       "      <td>0.0</td>\n",
       "      <td>0.0</td>\n",
       "      <td>0.00</td>\n",
       "      <td>0.00</td>\n",
       "      <td>0.27</td>\n",
       "      <td>0.00</td>\n",
       "      <td>0.28</td>\n",
       "    </tr>\n",
       "    <tr>\n",
       "      <th>childhood</th>\n",
       "      <td>0.00</td>\n",
       "      <td>0.00</td>\n",
       "      <td>0.00</td>\n",
       "      <td>0.00</td>\n",
       "      <td>0.0</td>\n",
       "      <td>0.00</td>\n",
       "      <td>0.00</td>\n",
       "      <td>0.00</td>\n",
       "      <td>0.00</td>\n",
       "      <td>0.0</td>\n",
       "      <td>0.0</td>\n",
       "      <td>0.00</td>\n",
       "      <td>0.32</td>\n",
       "      <td>0.00</td>\n",
       "      <td>0.00</td>\n",
       "      <td>0.00</td>\n",
       "    </tr>\n",
       "    <tr>\n",
       "      <th>children</th>\n",
       "      <td>0.21</td>\n",
       "      <td>0.00</td>\n",
       "      <td>0.00</td>\n",
       "      <td>0.27</td>\n",
       "      <td>0.0</td>\n",
       "      <td>0.24</td>\n",
       "      <td>0.00</td>\n",
       "      <td>0.00</td>\n",
       "      <td>0.00</td>\n",
       "      <td>0.0</td>\n",
       "      <td>0.0</td>\n",
       "      <td>0.21</td>\n",
       "      <td>0.20</td>\n",
       "      <td>0.00</td>\n",
       "      <td>0.14</td>\n",
       "      <td>0.00</td>\n",
       "    </tr>\n",
       "    <tr>\n",
       "      <th>conditions</th>\n",
       "      <td>0.00</td>\n",
       "      <td>0.00</td>\n",
       "      <td>0.00</td>\n",
       "      <td>0.00</td>\n",
       "      <td>0.0</td>\n",
       "      <td>0.00</td>\n",
       "      <td>0.00</td>\n",
       "      <td>0.00</td>\n",
       "      <td>0.00</td>\n",
       "      <td>0.0</td>\n",
       "      <td>0.0</td>\n",
       "      <td>0.00</td>\n",
       "      <td>0.32</td>\n",
       "      <td>0.00</td>\n",
       "      <td>0.00</td>\n",
       "      <td>0.00</td>\n",
       "    </tr>\n",
       "    <tr>\n",
       "      <th>consequences</th>\n",
       "      <td>0.00</td>\n",
       "      <td>0.00</td>\n",
       "      <td>0.00</td>\n",
       "      <td>0.00</td>\n",
       "      <td>0.0</td>\n",
       "      <td>0.00</td>\n",
       "      <td>0.39</td>\n",
       "      <td>0.00</td>\n",
       "      <td>0.00</td>\n",
       "      <td>0.0</td>\n",
       "      <td>0.0</td>\n",
       "      <td>0.00</td>\n",
       "      <td>0.00</td>\n",
       "      <td>0.00</td>\n",
       "      <td>0.00</td>\n",
       "      <td>0.00</td>\n",
       "    </tr>\n",
       "    <tr>\n",
       "      <th>considered</th>\n",
       "      <td>0.00</td>\n",
       "      <td>0.00</td>\n",
       "      <td>0.00</td>\n",
       "      <td>0.00</td>\n",
       "      <td>0.0</td>\n",
       "      <td>0.00</td>\n",
       "      <td>0.00</td>\n",
       "      <td>0.00</td>\n",
       "      <td>0.00</td>\n",
       "      <td>0.0</td>\n",
       "      <td>0.0</td>\n",
       "      <td>0.00</td>\n",
       "      <td>0.00</td>\n",
       "      <td>0.00</td>\n",
       "      <td>0.00</td>\n",
       "      <td>0.42</td>\n",
       "    </tr>\n",
       "    <tr>\n",
       "      <th>control</th>\n",
       "      <td>0.00</td>\n",
       "      <td>0.00</td>\n",
       "      <td>0.00</td>\n",
       "      <td>0.00</td>\n",
       "      <td>0.0</td>\n",
       "      <td>0.00</td>\n",
       "      <td>0.00</td>\n",
       "      <td>0.41</td>\n",
       "      <td>0.00</td>\n",
       "      <td>0.0</td>\n",
       "      <td>0.0</td>\n",
       "      <td>0.00</td>\n",
       "      <td>0.00</td>\n",
       "      <td>0.00</td>\n",
       "      <td>0.00</td>\n",
       "      <td>0.00</td>\n",
       "    </tr>\n",
       "    <tr>\n",
       "      <th>country</th>\n",
       "      <td>0.00</td>\n",
       "      <td>0.35</td>\n",
       "      <td>0.00</td>\n",
       "      <td>0.00</td>\n",
       "      <td>0.0</td>\n",
       "      <td>0.00</td>\n",
       "      <td>0.00</td>\n",
       "      <td>0.00</td>\n",
       "      <td>0.00</td>\n",
       "      <td>0.0</td>\n",
       "      <td>0.0</td>\n",
       "      <td>0.00</td>\n",
       "      <td>0.28</td>\n",
       "      <td>0.00</td>\n",
       "      <td>0.00</td>\n",
       "      <td>0.00</td>\n",
       "    </tr>\n",
       "    <tr>\n",
       "      <th>create</th>\n",
       "      <td>0.00</td>\n",
       "      <td>0.00</td>\n",
       "      <td>0.35</td>\n",
       "      <td>0.00</td>\n",
       "      <td>0.0</td>\n",
       "      <td>0.00</td>\n",
       "      <td>0.00</td>\n",
       "      <td>0.00</td>\n",
       "      <td>0.00</td>\n",
       "      <td>0.0</td>\n",
       "      <td>0.0</td>\n",
       "      <td>0.00</td>\n",
       "      <td>0.00</td>\n",
       "      <td>0.00</td>\n",
       "      <td>0.00</td>\n",
       "      <td>0.00</td>\n",
       "    </tr>\n",
       "    <tr>\n",
       "      <th>crime</th>\n",
       "      <td>0.00</td>\n",
       "      <td>0.00</td>\n",
       "      <td>0.00</td>\n",
       "      <td>0.00</td>\n",
       "      <td>0.0</td>\n",
       "      <td>0.00</td>\n",
       "      <td>0.00</td>\n",
       "      <td>0.00</td>\n",
       "      <td>0.00</td>\n",
       "      <td>0.0</td>\n",
       "      <td>0.0</td>\n",
       "      <td>0.00</td>\n",
       "      <td>0.00</td>\n",
       "      <td>0.00</td>\n",
       "      <td>0.23</td>\n",
       "      <td>0.00</td>\n",
       "    </tr>\n",
       "    <tr>\n",
       "      <th>dealing</th>\n",
       "      <td>0.00</td>\n",
       "      <td>0.40</td>\n",
       "      <td>0.00</td>\n",
       "      <td>0.00</td>\n",
       "      <td>0.0</td>\n",
       "      <td>0.00</td>\n",
       "      <td>0.00</td>\n",
       "      <td>0.00</td>\n",
       "      <td>0.00</td>\n",
       "      <td>0.0</td>\n",
       "      <td>0.0</td>\n",
       "      <td>0.00</td>\n",
       "      <td>0.00</td>\n",
       "      <td>0.00</td>\n",
       "      <td>0.00</td>\n",
       "      <td>0.00</td>\n",
       "    </tr>\n",
       "  </tbody>\n",
       "</table>\n",
       "</div>"
      ],
      "text/plain": [
       "                0     1     2     3    4     5     6     7     8    9    10  \\\n",
       "able          0.00  0.00  0.00  0.00  0.0  0.40  0.00  0.00  0.00  0.0  0.0   \n",
       "addition      0.00  0.00  0.00  0.00  0.0  0.00  0.00  0.41  0.00  0.0  0.0   \n",
       "age           0.00  0.00  0.00  0.00  0.0  0.00  0.00  0.00  0.00  0.0  0.0   \n",
       "also          0.00  0.35  0.00  0.00  0.0  0.00  0.00  0.36  0.00  0.0  0.0   \n",
       "appropriate   0.00  0.00  0.00  0.00  0.0  0.00  0.00  0.00  0.00  0.0  0.0   \n",
       "average       0.00  0.00  0.00  0.00  0.0  0.00  0.00  0.00  0.00  0.0  0.0   \n",
       "aware         0.00  0.00  0.00  0.00  0.0  0.35  0.34  0.00  0.00  0.0  0.0   \n",
       "begin         0.00  0.00  0.35  0.00  0.0  0.00  0.00  0.00  0.00  0.0  0.0   \n",
       "bird          0.00  0.00  0.00  0.00  0.0  0.00  0.00  0.00  0.35  0.0  0.0   \n",
       "child         0.23  0.00  0.23  0.00  0.0  0.00  0.25  0.00  0.00  0.0  0.0   \n",
       "childhood     0.00  0.00  0.00  0.00  0.0  0.00  0.00  0.00  0.00  0.0  0.0   \n",
       "children      0.21  0.00  0.00  0.27  0.0  0.24  0.00  0.00  0.00  0.0  0.0   \n",
       "conditions    0.00  0.00  0.00  0.00  0.0  0.00  0.00  0.00  0.00  0.0  0.0   \n",
       "consequences  0.00  0.00  0.00  0.00  0.0  0.00  0.39  0.00  0.00  0.0  0.0   \n",
       "considered    0.00  0.00  0.00  0.00  0.0  0.00  0.00  0.00  0.00  0.0  0.0   \n",
       "control       0.00  0.00  0.00  0.00  0.0  0.00  0.00  0.41  0.00  0.0  0.0   \n",
       "country       0.00  0.35  0.00  0.00  0.0  0.00  0.00  0.00  0.00  0.0  0.0   \n",
       "create        0.00  0.00  0.35  0.00  0.0  0.00  0.00  0.00  0.00  0.0  0.0   \n",
       "crime         0.00  0.00  0.00  0.00  0.0  0.00  0.00  0.00  0.00  0.0  0.0   \n",
       "dealing       0.00  0.40  0.00  0.00  0.0  0.00  0.00  0.00  0.00  0.0  0.0   \n",
       "\n",
       "                11    12    13    14    15  \n",
       "able          0.00  0.00  0.00  0.00  0.00  \n",
       "addition      0.00  0.00  0.00  0.00  0.00  \n",
       "age           0.00  0.00  0.00  0.20  0.37  \n",
       "also          0.00  0.00  0.00  0.00  0.00  \n",
       "appropriate   0.00  0.00  0.00  0.00  0.42  \n",
       "average       0.00  0.00  0.00  0.00  0.42  \n",
       "aware         0.00  0.00  0.00  0.00  0.00  \n",
       "begin         0.00  0.00  0.00  0.00  0.00  \n",
       "bird          0.00  0.00  0.00  0.00  0.00  \n",
       "child         0.00  0.00  0.27  0.00  0.28  \n",
       "childhood     0.00  0.32  0.00  0.00  0.00  \n",
       "children      0.21  0.20  0.00  0.14  0.00  \n",
       "conditions    0.00  0.32  0.00  0.00  0.00  \n",
       "consequences  0.00  0.00  0.00  0.00  0.00  \n",
       "considered    0.00  0.00  0.00  0.00  0.42  \n",
       "control       0.00  0.00  0.00  0.00  0.00  \n",
       "country       0.00  0.28  0.00  0.00  0.00  \n",
       "create        0.00  0.00  0.00  0.00  0.00  \n",
       "crime         0.00  0.00  0.00  0.23  0.00  \n",
       "dealing       0.00  0.00  0.00  0.00  0.00  "
      ]
     },
     "execution_count": 83,
     "metadata": {},
     "output_type": "execute_result"
    }
   ],
   "source": [
    "tv = TfidfVectorizer(min_df=0., max_df=1., use_idf=True)\n",
    "dt_matrix = tv.fit_transform(norm_sentences)\n",
    "dt_matrix = dt_matrix.toarray()\n",
    "\n",
    "vocab = tv.get_feature_names()\n",
    "td_matrix = dt_matrix.T\n",
    "print(td_matrix.shape)\n",
    "pd.DataFrame(np.round(td_matrix, 2), index=vocab).head(20)"
   ]
  },
  {
   "cell_type": "markdown",
   "id": "4d74ff83",
   "metadata": {},
   "source": [
    "### Latent Symantic Analysis (LSA)"
   ]
  },
  {
   "cell_type": "code",
   "execution_count": 84,
   "id": "60d743b5",
   "metadata": {},
   "outputs": [],
   "source": [
    "def low_rank_svd(matrix, singular_count=2):\n",
    "    u, s, vt = svds(matrix, k=singular_count)\n",
    "    return u, s, vt"
   ]
  },
  {
   "cell_type": "markdown",
   "id": "1a022c8a",
   "metadata": {},
   "source": [
    "##### A matrix containing word counts per document (rows represent unique words and columns represent each document) is constructed from a large piece of text and a mathematical technique called singular value decomposition (SVD) is used to reduce the number of rows while preserving the similarity structure among columns. Documents are then compared by taking the cosine of the angle between the two vectors (or the dot product between the normalizations of the two vectors) formed by any two columns. Values close to 1 represent very similar documents while values close to 0 represent very dissimilar documents."
   ]
  },
  {
   "cell_type": "code",
   "execution_count": 85,
   "id": "25e3ac6b",
   "metadata": {},
   "outputs": [
    {
     "name": "stdout",
     "output_type": "stream",
     "text": [
      "(98, 3) (3,) (3, 16)\n"
     ]
    }
   ],
   "source": [
    "num_sentences = 6\n",
    "num_topics = 3\n",
    "\n",
    "u, s, vt = low_rank_svd(td_matrix, singular_count=num_topics)  \n",
    "print(u.shape, s.shape, vt.shape)\n",
    "term_topic_mat, singular_values, topic_document_mat = u, s, vt"
   ]
  },
  {
   "cell_type": "code",
   "execution_count": 86,
   "id": "db3ab418",
   "metadata": {},
   "outputs": [],
   "source": [
    "# remove singular values below threshold                                         \n",
    "sv_threshold = 0.5\n",
    "min_sigma_value = max(singular_values) * sv_threshold\n",
    "singular_values[singular_values < min_sigma_value] = 0"
   ]
  },
  {
   "cell_type": "code",
   "execution_count": 87,
   "id": "fd3425b4",
   "metadata": {},
   "outputs": [
    {
     "data": {
      "text/plain": [
       "array([0.59358037, 0.65114781, 0.498257  , 0.37991043, 0.25682875,\n",
       "       0.46956445, 0.5798762 , 0.54846641, 0.19353328, 0.62191443,\n",
       "       0.79449371, 0.56295958, 0.68112731, 0.50933325, 0.19870656,\n",
       "       0.40544806])"
      ]
     },
     "execution_count": 87,
     "metadata": {},
     "output_type": "execute_result"
    }
   ],
   "source": [
    "salience_scores = np.sqrt(np.dot(np.square(singular_values), \n",
    "                                 np.square(topic_document_mat)))\n",
    "salience_scores\n"
   ]
  },
  {
   "cell_type": "code",
   "execution_count": 88,
   "id": "cbc030eb",
   "metadata": {},
   "outputs": [],
   "source": [
    "top_sentence_indices = (-salience_scores).argsort()[:num_sentences]\n",
    "top_sentence_indices.sort()"
   ]
  },
  {
   "cell_type": "markdown",
   "id": "11113432",
   "metadata": {},
   "source": [
    "### Similarity Matrix"
   ]
  },
  {
   "cell_type": "code",
   "execution_count": 89,
   "id": "b81e21ca",
   "metadata": {},
   "outputs": [
    {
     "name": "stdout",
     "output_type": "stream",
     "text": [
      "(16, 16)\n"
     ]
    },
    {
     "data": {
      "text/plain": [
       "array([[1.   , 0.   , 0.113, 0.056, 0.093, 0.051, 0.126, 0.   , 0.   ,\n",
       "        0.   , 0.   , 0.046, 0.041, 0.134, 0.03 , 0.063],\n",
       "       [0.   , 1.   , 0.   , 0.   , 0.   , 0.   , 0.   , 0.125, 0.   ,\n",
       "        0.   , 0.   , 0.   , 0.197, 0.   , 0.   , 0.   ],\n",
       "       [0.113, 0.   , 1.   , 0.   , 0.   , 0.   , 0.124, 0.   , 0.044,\n",
       "        0.   , 0.073, 0.045, 0.   , 0.132, 0.029, 0.116],\n",
       "       [0.056, 0.   , 0.   , 1.   , 0.   , 0.2  , 0.   , 0.   , 0.   ,\n",
       "        0.   , 0.   , 0.057, 0.052, 0.   , 0.037, 0.   ],\n",
       "       [0.093, 0.   , 0.   , 0.   , 1.   , 0.106, 0.   , 0.   , 0.093,\n",
       "        0.   , 0.   , 0.   , 0.   , 0.   , 0.   , 0.   ],\n",
       "       [0.051, 0.   , 0.   , 0.2  , 0.106, 1.   , 0.197, 0.   , 0.   ,\n",
       "        0.   , 0.117, 0.124, 0.047, 0.   , 0.034, 0.   ],\n",
       "       [0.126, 0.   , 0.124, 0.   , 0.   , 0.197, 1.   , 0.08 , 0.   ,\n",
       "        0.075, 0.225, 0.069, 0.   , 0.147, 0.   , 0.069],\n",
       "       [0.   , 0.125, 0.   , 0.   , 0.   , 0.   , 0.08 , 1.   , 0.   ,\n",
       "        0.177, 0.12 , 0.   , 0.081, 0.   , 0.   , 0.   ],\n",
       "       [0.   , 0.   , 0.044, 0.   , 0.093, 0.   , 0.   , 0.   , 1.   ,\n",
       "        0.   , 0.074, 0.045, 0.   , 0.   , 0.029, 0.054],\n",
       "       [0.   , 0.   , 0.   , 0.   , 0.   , 0.   , 0.075, 0.177, 0.   ,\n",
       "        1.   , 0.248, 0.084, 0.076, 0.   , 0.   , 0.   ],\n",
       "       [0.   , 0.   , 0.073, 0.   , 0.   , 0.117, 0.225, 0.12 , 0.074,\n",
       "        0.248, 1.   , 0.305, 0.   , 0.   , 0.049, 0.089],\n",
       "       [0.046, 0.   , 0.045, 0.057, 0.   , 0.124, 0.069, 0.   , 0.045,\n",
       "        0.084, 0.305, 1.   , 0.042, 0.   , 0.06 , 0.055],\n",
       "       [0.041, 0.197, 0.   , 0.052, 0.   , 0.047, 0.   , 0.081, 0.   ,\n",
       "        0.076, 0.   , 0.042, 1.   , 0.   , 0.027, 0.   ],\n",
       "       [0.134, 0.   , 0.132, 0.   , 0.   , 0.   , 0.147, 0.   , 0.   ,\n",
       "        0.   , 0.   , 0.   , 0.   , 1.   , 0.   , 0.074],\n",
       "       [0.03 , 0.   , 0.029, 0.037, 0.   , 0.034, 0.   , 0.   , 0.029,\n",
       "        0.   , 0.049, 0.06 , 0.027, 0.   , 1.   , 0.111],\n",
       "       [0.063, 0.   , 0.116, 0.   , 0.   , 0.   , 0.069, 0.   , 0.054,\n",
       "        0.   , 0.089, 0.055, 0.   , 0.074, 0.111, 1.   ]])"
      ]
     },
     "execution_count": 89,
     "metadata": {},
     "output_type": "execute_result"
    }
   ],
   "source": [
    "similarity_matrix = np.matmul(dt_matrix, dt_matrix.T)\n",
    "print(similarity_matrix.shape)\n",
    "np.round(similarity_matrix, 3)"
   ]
  },
  {
   "cell_type": "markdown",
   "id": "165ee0d8",
   "metadata": {},
   "source": [
    "### Similarity Graph"
   ]
  },
  {
   "cell_type": "code",
   "execution_count": 90,
   "id": "d27c0445",
   "metadata": {
    "scrolled": true
   },
   "outputs": [
    {
     "data": {
      "image/png": "[encoded data removed]",
      "text/plain": [
       "<Figure size 864x432 with 1 Axes>"
      ]
     },
     "metadata": {},
     "output_type": "display_data"
    }
   ],
   "source": [
    "similarity_graph = networkx.from_numpy_array(similarity_matrix)\n",
    "similarity_graph\n",
    "plt.figure(figsize=(12, 6))\n",
    "networkx.draw_networkx(similarity_graph, node_color='lime')"
   ]
  },
  {
   "cell_type": "markdown",
   "id": "6f6c2f12",
   "metadata": {},
   "source": [
    "### Sentence Importance Score"
   ]
  },
  {
   "cell_type": "code",
   "execution_count": 91,
   "id": "3cc15553",
   "metadata": {},
   "outputs": [
    {
     "data": {
      "text/plain": [
       "[(0.07927357521808784, 10),\n",
       " (0.0737345784131608, 6),\n",
       " (0.06867449176256651, 11),\n",
       " (0.06844698491001563, 5),\n",
       " (0.06555135150152841, 0),\n",
       " (0.06236841009244814, 2),\n",
       " (0.06186642624646457, 12),\n",
       " (0.061562194599650934, 15),\n",
       " (0.060879261025337694, 9),\n",
       " (0.06053000679866458, 7)]"
      ]
     },
     "execution_count": 91,
     "metadata": {},
     "output_type": "execute_result"
    }
   ],
   "source": [
    "scores = networkx.pagerank(similarity_graph)\n",
    "ranked_sentences = sorted(((score, index) for index, score \n",
    "                                            in scores.items()), \n",
    "                          reverse=True)\n",
    "ranked_sentences[:10]"
   ]
  },
  {
   "cell_type": "code",
   "execution_count": 92,
   "id": "a256eab6",
   "metadata": {},
   "outputs": [],
   "source": [
    "top_sentence_indices = [ranked_sentences[index][1] \n",
    "                        for index in range(num_sentences)]\n",
    "top_sentence_indices.sort()"
   ]
  },
  {
   "cell_type": "markdown",
   "id": "6f65a25b",
   "metadata": {},
   "source": [
    "#### Output"
   ]
  },
  {
   "cell_type": "code",
   "execution_count": 93,
   "id": "48d34746",
   "metadata": {
    "scrolled": true
   },
   "outputs": [
    {
     "name": "stdout",
     "output_type": "stream",
     "text": [
      "if we wish to eradicate child labour we need to formulate some very effective solutions which will save our children.\n",
      "to begin with one can create a number of unions that solely work to prevent child labour.\n",
      "is the make education free and people aware we will be able to educate more and more children.\n",
      "moreover making people aware of the harmful consequences of child labour is a must.\n",
      "Government and people must work together.\n",
      "government should provide employment opportunities so that people can work and provide to their children.\n"
     ]
    }
   ],
   "source": [
    "print('\\n'.join(np.array(sentences)[top_sentence_indices]))"
   ]
  },
  {
   "cell_type": "code",
   "execution_count": null,
   "id": "72e380ae",
   "metadata": {},
   "outputs": [],
   "source": []
  }
 ],
 "metadata": {
  "kernelspec": {
   "display_name": "Python 3 (ipykernel)",
   "language": "python",
   "name": "python3"
  },
  "language_info": {
   "codemirror_mode": {
    "name": "ipython",
    "version": 3
   },
   "file_extension": ".py",
   "mimetype": "text/x-python",
   "name": "python",
   "nbconvert_exporter": "python",
   "pygments_lexer": "ipython3",
   "version": "3.10.4"
  }
 },
 "nbformat": 4,
 "nbformat_minor": 5
}
